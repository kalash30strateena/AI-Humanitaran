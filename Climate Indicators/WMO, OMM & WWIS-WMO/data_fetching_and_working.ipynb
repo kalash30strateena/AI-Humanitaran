{
 "cells": [
  {
   "cell_type": "markdown",
   "id": "aba99a99",
   "metadata": {},
   "source": [
    "# Data fetching"
   ]
  },
  {
   "cell_type": "code",
   "execution_count": 54,
   "id": "8e89813f",
   "metadata": {},
   "outputs": [],
   "source": [
    "import warnings\n",
    "warnings.filterwarnings(\"ignore\")"
   ]
  },
  {
   "cell_type": "code",
   "execution_count": 55,
   "id": "4325b239",
   "metadata": {},
   "outputs": [
    {
     "name": "stdout",
     "output_type": "stream",
     "text": [
      "10\n"
     ]
    }
   ],
   "source": [
    "import pandas as pd\n",
    "import requests\n",
    " \n",
    "df = pd.read_csv('full_city_list.txt', sep=\";\")\n",
    "df_arg = df[df['Country']=='Argentina']\n",
    " \n",
    "province_lst = []\n",
    "\n",
    "for i in range(len(df_arg)):\n",
    "    province_id = int(df_arg.iloc[i]['CityId'])\n",
    "    url = 'https://worldweather.wmo.int/en/json/' + str(province_id) + '_en.json'\n",
    "    response = requests.get(url)\n",
    "    province_json = response.json()\n",
    "    province_lst.append(province_json)\n",
    "print(len(province_lst))"
   ]
  },
  {
   "cell_type": "code",
   "execution_count": 56,
   "id": "459cfb87",
   "metadata": {},
   "outputs": [
    {
     "data": {
      "text/plain": [
       "{'city': {'lang': 'en',\n",
       "  'cityName': 'Bariloche',\n",
       "  'cityLatitude': '-41.150000000',\n",
       "  'cityLongitude': '-71.170000000',\n",
       "  'cityId': 858,\n",
       "  'isCapital': False,\n",
       "  'stationName': 'Bariloche',\n",
       "  'tourismURL': '',\n",
       "  'tourismBoardName': '',\n",
       "  'isDep': False,\n",
       "  'timeZone': '-0300',\n",
       "  'isDST': 'N',\n",
       "  'member': {'memId': 50,\n",
       "   'memName': 'Argentina',\n",
       "   'shortMemName': '',\n",
       "   'url': 'www.smn.gov.ar',\n",
       "   'orgName': 'Servicio Meteorológico Nacional',\n",
       "   'logo': 'argentina_logo.png',\n",
       "   'ra': 3},\n",
       "  'forecast': {'issueDate': '2025-04-20 17:32:00',\n",
       "   'timeZone': 'Local',\n",
       "   'forecastDay': [{'forecastDate': '2025-04-21',\n",
       "     'wxdesc': '',\n",
       "     'weather': 'Rain',\n",
       "     'minTemp': '7',\n",
       "     'maxTemp': '15',\n",
       "     'minTempF': '45',\n",
       "     'maxTempF': '59',\n",
       "     'weatherIcon': 1401},\n",
       "    {'forecastDate': '2025-04-22',\n",
       "     'wxdesc': '',\n",
       "     'weather': 'Rain',\n",
       "     'minTemp': '5',\n",
       "     'maxTemp': '14',\n",
       "     'minTempF': '41',\n",
       "     'maxTempF': '57',\n",
       "     'weatherIcon': 1401},\n",
       "    {'forecastDate': '2025-04-23',\n",
       "     'wxdesc': '',\n",
       "     'weather': 'Partly Cloudy',\n",
       "     'minTemp': '6',\n",
       "     'maxTemp': '14',\n",
       "     'minTempF': '43',\n",
       "     'maxTempF': '57',\n",
       "     'weatherIcon': 2202},\n",
       "    {'forecastDate': '2025-04-24',\n",
       "     'wxdesc': '',\n",
       "     'weather': 'Light Rain',\n",
       "     'minTemp': '4',\n",
       "     'maxTemp': '12',\n",
       "     'minTempF': '39',\n",
       "     'maxTempF': '54',\n",
       "     'weatherIcon': 1502},\n",
       "    {'forecastDate': '2025-04-25',\n",
       "     'wxdesc': '',\n",
       "     'weather': 'Light Rain',\n",
       "     'minTemp': '3',\n",
       "     'maxTemp': '12',\n",
       "     'minTempF': '37',\n",
       "     'maxTempF': '54',\n",
       "     'weatherIcon': 1502},\n",
       "    {'forecastDate': '2025-04-26',\n",
       "     'wxdesc': '',\n",
       "     'weather': 'Mostly Cloudy',\n",
       "     'minTemp': '2',\n",
       "     'maxTemp': '8',\n",
       "     'minTempF': '36',\n",
       "     'maxTempF': '46',\n",
       "     'weatherIcon': 2302},\n",
       "    {'forecastDate': '2025-04-27',\n",
       "     'wxdesc': '',\n",
       "     'weather': 'Partly Cloudy',\n",
       "     'minTemp': '1',\n",
       "     'maxTemp': '6',\n",
       "     'minTempF': '34',\n",
       "     'maxTempF': '43',\n",
       "     'weatherIcon': 2202}]},\n",
       "  'climate': {'raintype': 'Rainfall',\n",
       "   'raindef': '0.1',\n",
       "   'rainunit': 'mm',\n",
       "   'datab': 1981,\n",
       "   'datae': 2010,\n",
       "   'tempb': '',\n",
       "   'tempe': '',\n",
       "   'rdayb': '',\n",
       "   'rdaye': '',\n",
       "   'rainfallb': '',\n",
       "   'rainfalle': '',\n",
       "   'climatefromclino': '',\n",
       "   'climateMonth': [{'month': 1,\n",
       "     'maxTemp': '22.6',\n",
       "     'minTemp': '6.6',\n",
       "     'meanTemp': None,\n",
       "     'maxTempF': '72.7',\n",
       "     'minTempF': '43.9',\n",
       "     'meanTempF': None,\n",
       "     'raindays': '3.7',\n",
       "     'rainfall': '20.0',\n",
       "     'climateFromMemDate': '2002-11-15'},\n",
       "    {'month': 2,\n",
       "     'maxTemp': '23.0',\n",
       "     'minTemp': '6.3',\n",
       "     'meanTemp': None,\n",
       "     'maxTempF': '73.4',\n",
       "     'minTempF': '43.3',\n",
       "     'meanTempF': None,\n",
       "     'raindays': '3.4',\n",
       "     'rainfall': '15.3',\n",
       "     'climateFromMemDate': '2002-11-15'},\n",
       "    {'month': 3,\n",
       "     'maxTemp': '19.7',\n",
       "     'minTemp': '4.7',\n",
       "     'meanTemp': None,\n",
       "     'maxTempF': '67.5',\n",
       "     'minTempF': '40.5',\n",
       "     'meanTempF': None,\n",
       "     'raindays': '6.7',\n",
       "     'rainfall': '35.2',\n",
       "     'climateFromMemDate': '2002-11-15'},\n",
       "    {'month': 4,\n",
       "     'maxTemp': '14.6',\n",
       "     'minTemp': '2.3',\n",
       "     'meanTemp': None,\n",
       "     'maxTempF': '58.3',\n",
       "     'minTempF': '36.1',\n",
       "     'meanTempF': None,\n",
       "     'raindays': '8.2',\n",
       "     'rainfall': '58.9',\n",
       "     'climateFromMemDate': '2002-11-15'},\n",
       "    {'month': 5,\n",
       "     'maxTemp': '10.2',\n",
       "     'minTemp': '0.6',\n",
       "     'meanTemp': None,\n",
       "     'maxTempF': '50.4',\n",
       "     'minTempF': '33.1',\n",
       "     'meanTempF': None,\n",
       "     'raindays': '13.6',\n",
       "     'rainfall': '130.1',\n",
       "     'climateFromMemDate': '2002-11-15'},\n",
       "    {'month': 6,\n",
       "     'maxTemp': '6.9',\n",
       "     'minTemp': '-0.6',\n",
       "     'meanTemp': None,\n",
       "     'maxTempF': '44.4',\n",
       "     'minTempF': '30.9',\n",
       "     'meanTempF': None,\n",
       "     'raindays': '16.1',\n",
       "     'rainfall': '170.1',\n",
       "     'climateFromMemDate': '2002-11-15'},\n",
       "    {'month': 7,\n",
       "     'maxTemp': '6.7',\n",
       "     'minTemp': '-1.6',\n",
       "     'meanTemp': None,\n",
       "     'maxTempF': '44.1',\n",
       "     'minTempF': '29.1',\n",
       "     'meanTempF': None,\n",
       "     'raindays': '14.0',\n",
       "     'rainfall': '122.1',\n",
       "     'climateFromMemDate': '2002-11-15'},\n",
       "    {'month': 8,\n",
       "     'maxTemp': '8.3',\n",
       "     'minTemp': '-1.1',\n",
       "     'meanTemp': None,\n",
       "     'maxTempF': '46.9',\n",
       "     'minTempF': '30.0',\n",
       "     'meanTempF': None,\n",
       "     'raindays': '13.0',\n",
       "     'rainfall': '101.1',\n",
       "     'climateFromMemDate': '2002-11-15'},\n",
       "    {'month': 9,\n",
       "     'maxTemp': '11.5',\n",
       "     'minTemp': '-0.2',\n",
       "     'meanTemp': None,\n",
       "     'maxTempF': '52.7',\n",
       "     'minTempF': '31.6',\n",
       "     'meanTempF': None,\n",
       "     'raindays': '9.1',\n",
       "     'rainfall': '56.5',\n",
       "     'climateFromMemDate': '2002-11-15'},\n",
       "    {'month': 10,\n",
       "     'maxTemp': '14.8',\n",
       "     'minTemp': '1.8',\n",
       "     'meanTemp': None,\n",
       "     'maxTempF': '58.6',\n",
       "     'minTempF': '35.2',\n",
       "     'meanTempF': None,\n",
       "     'raindays': '8.3',\n",
       "     'rainfall': '49.4',\n",
       "     'climateFromMemDate': '2002-11-15'},\n",
       "    {'month': 11,\n",
       "     'maxTemp': '17.9',\n",
       "     'minTemp': '3.7',\n",
       "     'meanTemp': None,\n",
       "     'maxTempF': '64.2',\n",
       "     'minTempF': '38.7',\n",
       "     'meanTempF': None,\n",
       "     'raindays': '5.4',\n",
       "     'rainfall': '29.3',\n",
       "     'climateFromMemDate': '2002-11-15'},\n",
       "    {'month': 12,\n",
       "     'maxTemp': '20.5',\n",
       "     'minTemp': '5.9',\n",
       "     'meanTemp': None,\n",
       "     'maxTempF': '68.9',\n",
       "     'minTempF': '42.6',\n",
       "     'meanTempF': None,\n",
       "     'raindays': '4.6',\n",
       "     'rainfall': '23.4',\n",
       "     'climateFromMemDate': '2002-11-15'}]}}}"
      ]
     },
     "execution_count": 56,
     "metadata": {},
     "output_type": "execute_result"
    }
   ],
   "source": [
    "province_lst[0]"
   ]
  },
  {
   "cell_type": "markdown",
   "id": "ad91fcca",
   "metadata": {},
   "source": [
    "# Main Dataframe"
   ]
  },
  {
   "cell_type": "code",
   "execution_count": 57,
   "id": "2e9a74fa",
   "metadata": {},
   "outputs": [],
   "source": [
    "# import pandas as pd \n",
    "# df = pd.read_json('Cordoba.json')\n",
    "# df\n",
    "import pandas as pd\n",
    "df = pd.json_normalize(province_lst[0])\n"
   ]
  },
  {
   "cell_type": "code",
   "execution_count": 58,
   "id": "760d485f",
   "metadata": {},
   "outputs": [
    {
     "data": {
      "text/html": [
       "<div>\n",
       "<style scoped>\n",
       "    .dataframe tbody tr th:only-of-type {\n",
       "        vertical-align: middle;\n",
       "    }\n",
       "\n",
       "    .dataframe tbody tr th {\n",
       "        vertical-align: top;\n",
       "    }\n",
       "\n",
       "    .dataframe thead th {\n",
       "        text-align: right;\n",
       "    }\n",
       "</style>\n",
       "<table border=\"1\" class=\"dataframe\">\n",
       "  <thead>\n",
       "    <tr style=\"text-align: right;\">\n",
       "      <th></th>\n",
       "      <th>city.lang</th>\n",
       "      <th>city.cityName</th>\n",
       "      <th>city.cityLatitude</th>\n",
       "      <th>city.cityLongitude</th>\n",
       "      <th>city.cityId</th>\n",
       "      <th>city.isCapital</th>\n",
       "      <th>city.stationName</th>\n",
       "      <th>city.tourismURL</th>\n",
       "      <th>city.tourismBoardName</th>\n",
       "      <th>city.isDep</th>\n",
       "      <th>...</th>\n",
       "      <th>city.climate.datab</th>\n",
       "      <th>city.climate.datae</th>\n",
       "      <th>city.climate.tempb</th>\n",
       "      <th>city.climate.tempe</th>\n",
       "      <th>city.climate.rdayb</th>\n",
       "      <th>city.climate.rdaye</th>\n",
       "      <th>city.climate.rainfallb</th>\n",
       "      <th>city.climate.rainfalle</th>\n",
       "      <th>city.climate.climatefromclino</th>\n",
       "      <th>city.climate.climateMonth</th>\n",
       "    </tr>\n",
       "  </thead>\n",
       "  <tbody>\n",
       "    <tr>\n",
       "      <th>0</th>\n",
       "      <td>en</td>\n",
       "      <td>Bariloche</td>\n",
       "      <td>-41.150000000</td>\n",
       "      <td>-71.170000000</td>\n",
       "      <td>858</td>\n",
       "      <td>False</td>\n",
       "      <td>Bariloche</td>\n",
       "      <td></td>\n",
       "      <td></td>\n",
       "      <td>False</td>\n",
       "      <td>...</td>\n",
       "      <td>1981</td>\n",
       "      <td>2010</td>\n",
       "      <td></td>\n",
       "      <td></td>\n",
       "      <td></td>\n",
       "      <td></td>\n",
       "      <td></td>\n",
       "      <td></td>\n",
       "      <td></td>\n",
       "      <td>[{'month': 1, 'maxTemp': '22.6', 'minTemp': '6...</td>\n",
       "    </tr>\n",
       "  </tbody>\n",
       "</table>\n",
       "<p>1 rows × 35 columns</p>\n",
       "</div>"
      ],
      "text/plain": [
       "  city.lang city.cityName city.cityLatitude city.cityLongitude  city.cityId  \\\n",
       "0        en     Bariloche     -41.150000000      -71.170000000          858   \n",
       "\n",
       "   city.isCapital city.stationName city.tourismURL city.tourismBoardName  \\\n",
       "0           False        Bariloche                                         \n",
       "\n",
       "   city.isDep  ... city.climate.datab city.climate.datae  city.climate.tempb  \\\n",
       "0       False  ...               1981               2010                       \n",
       "\n",
       "  city.climate.tempe city.climate.rdayb city.climate.rdaye  \\\n",
       "0                                                            \n",
       "\n",
       "  city.climate.rainfallb city.climate.rainfalle  \\\n",
       "0                                                 \n",
       "\n",
       "   city.climate.climatefromclino  \\\n",
       "0                                  \n",
       "\n",
       "                           city.climate.climateMonth  \n",
       "0  [{'month': 1, 'maxTemp': '22.6', 'minTemp': '6...  \n",
       "\n",
       "[1 rows x 35 columns]"
      ]
     },
     "execution_count": 58,
     "metadata": {},
     "output_type": "execute_result"
    }
   ],
   "source": [
    "df"
   ]
  },
  {
   "cell_type": "markdown",
   "id": "4ab265e0",
   "metadata": {},
   "source": [
    "# OBJECT SEGMENTATION"
   ]
  },
  {
   "cell_type": "markdown",
   "id": "d8f9b5d4",
   "metadata": {},
   "source": [
    "### 3 objects -> [city,member] ; [forecast]; [climate]"
   ]
  },
  {
   "cell_type": "code",
   "execution_count": 59,
   "id": "af8ef300",
   "metadata": {},
   "outputs": [
    {
     "data": {
      "text/html": [
       "<div>\n",
       "<style scoped>\n",
       "    .dataframe tbody tr th:only-of-type {\n",
       "        vertical-align: middle;\n",
       "    }\n",
       "\n",
       "    .dataframe tbody tr th {\n",
       "        vertical-align: top;\n",
       "    }\n",
       "\n",
       "    .dataframe thead th {\n",
       "        text-align: right;\n",
       "    }\n",
       "</style>\n",
       "<table border=\"1\" class=\"dataframe\">\n",
       "  <thead>\n",
       "    <tr style=\"text-align: right;\">\n",
       "      <th></th>\n",
       "      <th>city.lang</th>\n",
       "      <th>city.cityName</th>\n",
       "      <th>city.cityLatitude</th>\n",
       "      <th>city.cityLongitude</th>\n",
       "      <th>city.cityId</th>\n",
       "      <th>city.isCapital</th>\n",
       "      <th>city.stationName</th>\n",
       "      <th>city.tourismURL</th>\n",
       "      <th>city.tourismBoardName</th>\n",
       "      <th>city.isDep</th>\n",
       "      <th>city.timeZone</th>\n",
       "      <th>city.isDST</th>\n",
       "      <th>city.member.memId</th>\n",
       "      <th>city.member.memName</th>\n",
       "      <th>city.member.shortMemName</th>\n",
       "      <th>city.member.url</th>\n",
       "      <th>city.member.orgName</th>\n",
       "      <th>city.member.logo</th>\n",
       "      <th>city.member.ra</th>\n",
       "    </tr>\n",
       "  </thead>\n",
       "  <tbody>\n",
       "    <tr>\n",
       "      <th>0</th>\n",
       "      <td>en</td>\n",
       "      <td>Bariloche</td>\n",
       "      <td>-41.150000000</td>\n",
       "      <td>-71.170000000</td>\n",
       "      <td>858</td>\n",
       "      <td>False</td>\n",
       "      <td>Bariloche</td>\n",
       "      <td></td>\n",
       "      <td></td>\n",
       "      <td>False</td>\n",
       "      <td>-0300</td>\n",
       "      <td>N</td>\n",
       "      <td>50</td>\n",
       "      <td>Argentina</td>\n",
       "      <td></td>\n",
       "      <td>www.smn.gov.ar</td>\n",
       "      <td>Servicio Meteorológico Nacional</td>\n",
       "      <td>argentina_logo.png</td>\n",
       "      <td>3</td>\n",
       "    </tr>\n",
       "  </tbody>\n",
       "</table>\n",
       "</div>"
      ],
      "text/plain": [
       "  city.lang city.cityName city.cityLatitude city.cityLongitude  city.cityId  \\\n",
       "0        en     Bariloche     -41.150000000      -71.170000000          858   \n",
       "\n",
       "   city.isCapital city.stationName city.tourismURL city.tourismBoardName  \\\n",
       "0           False        Bariloche                                         \n",
       "\n",
       "   city.isDep city.timeZone city.isDST  city.member.memId city.member.memName  \\\n",
       "0       False         -0300          N                 50           Argentina   \n",
       "\n",
       "  city.member.shortMemName city.member.url              city.member.orgName  \\\n",
       "0                           www.smn.gov.ar  Servicio Meteorológico Nacional   \n",
       "\n",
       "     city.member.logo  city.member.ra  \n",
       "0  argentina_logo.png               3  "
      ]
     },
     "execution_count": 59,
     "metadata": {},
     "output_type": "execute_result"
    }
   ],
   "source": [
    "import pandas as pd\n",
    "from pandas import json_normalize\n",
    "\n",
    "mem_cols = ['city.lang', 'city.cityName', 'city.cityLatitude', 'city.cityLongitude',\n",
    "    'city.cityId', 'city.isCapital', 'city.stationName', 'city.tourismURL',\n",
    "    'city.tourismBoardName', 'city.isDep', 'city.timeZone', 'city.isDST',\n",
    "    'city.member.memId', 'city.member.memName', 'city.member.shortMemName',\n",
    "    'city.member.url', 'city.member.orgName', 'city.member.logo',\n",
    "    'city.member.ra']\n",
    "\n",
    "city_member = df[mem_cols]\n",
    "city_member\n"
   ]
  },
  {
   "cell_type": "code",
   "execution_count": 60,
   "id": "26dd2aad",
   "metadata": {},
   "outputs": [
    {
     "data": {
      "text/html": [
       "<div>\n",
       "<style scoped>\n",
       "    .dataframe tbody tr th:only-of-type {\n",
       "        vertical-align: middle;\n",
       "    }\n",
       "\n",
       "    .dataframe tbody tr th {\n",
       "        vertical-align: top;\n",
       "    }\n",
       "\n",
       "    .dataframe thead th {\n",
       "        text-align: right;\n",
       "    }\n",
       "</style>\n",
       "<table border=\"1\" class=\"dataframe\">\n",
       "  <thead>\n",
       "    <tr style=\"text-align: right;\">\n",
       "      <th></th>\n",
       "      <th>city.climate.raintype</th>\n",
       "      <th>city.climate.raindef</th>\n",
       "      <th>city.climate.rainunit</th>\n",
       "      <th>city.climate.datab</th>\n",
       "      <th>city.climate.datae</th>\n",
       "      <th>city.climate.tempb</th>\n",
       "      <th>city.climate.tempe</th>\n",
       "      <th>city.climate.rdayb</th>\n",
       "      <th>city.climate.rdaye</th>\n",
       "      <th>city.climate.rainfallb</th>\n",
       "      <th>...</th>\n",
       "      <th>city.climate.climateMonth.month</th>\n",
       "      <th>city.climate.climateMonth.maxTemp</th>\n",
       "      <th>city.climate.climateMonth.minTemp</th>\n",
       "      <th>city.climate.climateMonth.meanTemp</th>\n",
       "      <th>city.climate.climateMonth.maxTempF</th>\n",
       "      <th>city.climate.climateMonth.minTempF</th>\n",
       "      <th>city.climate.climateMonth.meanTempF</th>\n",
       "      <th>city.climate.climateMonth.raindays</th>\n",
       "      <th>city.climate.climateMonth.rainfall</th>\n",
       "      <th>city.climate.climateMonth.climateFromMemDate</th>\n",
       "    </tr>\n",
       "  </thead>\n",
       "  <tbody>\n",
       "    <tr>\n",
       "      <th>0</th>\n",
       "      <td>Rainfall</td>\n",
       "      <td>0.1</td>\n",
       "      <td>mm</td>\n",
       "      <td>1981.0</td>\n",
       "      <td>2010.0</td>\n",
       "      <td></td>\n",
       "      <td></td>\n",
       "      <td></td>\n",
       "      <td></td>\n",
       "      <td></td>\n",
       "      <td>...</td>\n",
       "      <td>1</td>\n",
       "      <td>22.6</td>\n",
       "      <td>6.6</td>\n",
       "      <td>None</td>\n",
       "      <td>72.7</td>\n",
       "      <td>43.9</td>\n",
       "      <td>None</td>\n",
       "      <td>3.7</td>\n",
       "      <td>20.0</td>\n",
       "      <td>2002-11-15</td>\n",
       "    </tr>\n",
       "    <tr>\n",
       "      <th>1</th>\n",
       "      <td>NaN</td>\n",
       "      <td>NaN</td>\n",
       "      <td>NaN</td>\n",
       "      <td>NaN</td>\n",
       "      <td>NaN</td>\n",
       "      <td>NaN</td>\n",
       "      <td>NaN</td>\n",
       "      <td>NaN</td>\n",
       "      <td>NaN</td>\n",
       "      <td>NaN</td>\n",
       "      <td>...</td>\n",
       "      <td>2</td>\n",
       "      <td>23.0</td>\n",
       "      <td>6.3</td>\n",
       "      <td>None</td>\n",
       "      <td>73.4</td>\n",
       "      <td>43.3</td>\n",
       "      <td>None</td>\n",
       "      <td>3.4</td>\n",
       "      <td>15.3</td>\n",
       "      <td>2002-11-15</td>\n",
       "    </tr>\n",
       "    <tr>\n",
       "      <th>2</th>\n",
       "      <td>NaN</td>\n",
       "      <td>NaN</td>\n",
       "      <td>NaN</td>\n",
       "      <td>NaN</td>\n",
       "      <td>NaN</td>\n",
       "      <td>NaN</td>\n",
       "      <td>NaN</td>\n",
       "      <td>NaN</td>\n",
       "      <td>NaN</td>\n",
       "      <td>NaN</td>\n",
       "      <td>...</td>\n",
       "      <td>3</td>\n",
       "      <td>19.7</td>\n",
       "      <td>4.7</td>\n",
       "      <td>None</td>\n",
       "      <td>67.5</td>\n",
       "      <td>40.5</td>\n",
       "      <td>None</td>\n",
       "      <td>6.7</td>\n",
       "      <td>35.2</td>\n",
       "      <td>2002-11-15</td>\n",
       "    </tr>\n",
       "    <tr>\n",
       "      <th>3</th>\n",
       "      <td>NaN</td>\n",
       "      <td>NaN</td>\n",
       "      <td>NaN</td>\n",
       "      <td>NaN</td>\n",
       "      <td>NaN</td>\n",
       "      <td>NaN</td>\n",
       "      <td>NaN</td>\n",
       "      <td>NaN</td>\n",
       "      <td>NaN</td>\n",
       "      <td>NaN</td>\n",
       "      <td>...</td>\n",
       "      <td>4</td>\n",
       "      <td>14.6</td>\n",
       "      <td>2.3</td>\n",
       "      <td>None</td>\n",
       "      <td>58.3</td>\n",
       "      <td>36.1</td>\n",
       "      <td>None</td>\n",
       "      <td>8.2</td>\n",
       "      <td>58.9</td>\n",
       "      <td>2002-11-15</td>\n",
       "    </tr>\n",
       "    <tr>\n",
       "      <th>4</th>\n",
       "      <td>NaN</td>\n",
       "      <td>NaN</td>\n",
       "      <td>NaN</td>\n",
       "      <td>NaN</td>\n",
       "      <td>NaN</td>\n",
       "      <td>NaN</td>\n",
       "      <td>NaN</td>\n",
       "      <td>NaN</td>\n",
       "      <td>NaN</td>\n",
       "      <td>NaN</td>\n",
       "      <td>...</td>\n",
       "      <td>5</td>\n",
       "      <td>10.2</td>\n",
       "      <td>0.6</td>\n",
       "      <td>None</td>\n",
       "      <td>50.4</td>\n",
       "      <td>33.1</td>\n",
       "      <td>None</td>\n",
       "      <td>13.6</td>\n",
       "      <td>130.1</td>\n",
       "      <td>2002-11-15</td>\n",
       "    </tr>\n",
       "    <tr>\n",
       "      <th>5</th>\n",
       "      <td>NaN</td>\n",
       "      <td>NaN</td>\n",
       "      <td>NaN</td>\n",
       "      <td>NaN</td>\n",
       "      <td>NaN</td>\n",
       "      <td>NaN</td>\n",
       "      <td>NaN</td>\n",
       "      <td>NaN</td>\n",
       "      <td>NaN</td>\n",
       "      <td>NaN</td>\n",
       "      <td>...</td>\n",
       "      <td>6</td>\n",
       "      <td>6.9</td>\n",
       "      <td>-0.6</td>\n",
       "      <td>None</td>\n",
       "      <td>44.4</td>\n",
       "      <td>30.9</td>\n",
       "      <td>None</td>\n",
       "      <td>16.1</td>\n",
       "      <td>170.1</td>\n",
       "      <td>2002-11-15</td>\n",
       "    </tr>\n",
       "    <tr>\n",
       "      <th>6</th>\n",
       "      <td>NaN</td>\n",
       "      <td>NaN</td>\n",
       "      <td>NaN</td>\n",
       "      <td>NaN</td>\n",
       "      <td>NaN</td>\n",
       "      <td>NaN</td>\n",
       "      <td>NaN</td>\n",
       "      <td>NaN</td>\n",
       "      <td>NaN</td>\n",
       "      <td>NaN</td>\n",
       "      <td>...</td>\n",
       "      <td>7</td>\n",
       "      <td>6.7</td>\n",
       "      <td>-1.6</td>\n",
       "      <td>None</td>\n",
       "      <td>44.1</td>\n",
       "      <td>29.1</td>\n",
       "      <td>None</td>\n",
       "      <td>14.0</td>\n",
       "      <td>122.1</td>\n",
       "      <td>2002-11-15</td>\n",
       "    </tr>\n",
       "    <tr>\n",
       "      <th>7</th>\n",
       "      <td>NaN</td>\n",
       "      <td>NaN</td>\n",
       "      <td>NaN</td>\n",
       "      <td>NaN</td>\n",
       "      <td>NaN</td>\n",
       "      <td>NaN</td>\n",
       "      <td>NaN</td>\n",
       "      <td>NaN</td>\n",
       "      <td>NaN</td>\n",
       "      <td>NaN</td>\n",
       "      <td>...</td>\n",
       "      <td>8</td>\n",
       "      <td>8.3</td>\n",
       "      <td>-1.1</td>\n",
       "      <td>None</td>\n",
       "      <td>46.9</td>\n",
       "      <td>30.0</td>\n",
       "      <td>None</td>\n",
       "      <td>13.0</td>\n",
       "      <td>101.1</td>\n",
       "      <td>2002-11-15</td>\n",
       "    </tr>\n",
       "    <tr>\n",
       "      <th>8</th>\n",
       "      <td>NaN</td>\n",
       "      <td>NaN</td>\n",
       "      <td>NaN</td>\n",
       "      <td>NaN</td>\n",
       "      <td>NaN</td>\n",
       "      <td>NaN</td>\n",
       "      <td>NaN</td>\n",
       "      <td>NaN</td>\n",
       "      <td>NaN</td>\n",
       "      <td>NaN</td>\n",
       "      <td>...</td>\n",
       "      <td>9</td>\n",
       "      <td>11.5</td>\n",
       "      <td>-0.2</td>\n",
       "      <td>None</td>\n",
       "      <td>52.7</td>\n",
       "      <td>31.6</td>\n",
       "      <td>None</td>\n",
       "      <td>9.1</td>\n",
       "      <td>56.5</td>\n",
       "      <td>2002-11-15</td>\n",
       "    </tr>\n",
       "    <tr>\n",
       "      <th>9</th>\n",
       "      <td>NaN</td>\n",
       "      <td>NaN</td>\n",
       "      <td>NaN</td>\n",
       "      <td>NaN</td>\n",
       "      <td>NaN</td>\n",
       "      <td>NaN</td>\n",
       "      <td>NaN</td>\n",
       "      <td>NaN</td>\n",
       "      <td>NaN</td>\n",
       "      <td>NaN</td>\n",
       "      <td>...</td>\n",
       "      <td>10</td>\n",
       "      <td>14.8</td>\n",
       "      <td>1.8</td>\n",
       "      <td>None</td>\n",
       "      <td>58.6</td>\n",
       "      <td>35.2</td>\n",
       "      <td>None</td>\n",
       "      <td>8.3</td>\n",
       "      <td>49.4</td>\n",
       "      <td>2002-11-15</td>\n",
       "    </tr>\n",
       "    <tr>\n",
       "      <th>10</th>\n",
       "      <td>NaN</td>\n",
       "      <td>NaN</td>\n",
       "      <td>NaN</td>\n",
       "      <td>NaN</td>\n",
       "      <td>NaN</td>\n",
       "      <td>NaN</td>\n",
       "      <td>NaN</td>\n",
       "      <td>NaN</td>\n",
       "      <td>NaN</td>\n",
       "      <td>NaN</td>\n",
       "      <td>...</td>\n",
       "      <td>11</td>\n",
       "      <td>17.9</td>\n",
       "      <td>3.7</td>\n",
       "      <td>None</td>\n",
       "      <td>64.2</td>\n",
       "      <td>38.7</td>\n",
       "      <td>None</td>\n",
       "      <td>5.4</td>\n",
       "      <td>29.3</td>\n",
       "      <td>2002-11-15</td>\n",
       "    </tr>\n",
       "    <tr>\n",
       "      <th>11</th>\n",
       "      <td>NaN</td>\n",
       "      <td>NaN</td>\n",
       "      <td>NaN</td>\n",
       "      <td>NaN</td>\n",
       "      <td>NaN</td>\n",
       "      <td>NaN</td>\n",
       "      <td>NaN</td>\n",
       "      <td>NaN</td>\n",
       "      <td>NaN</td>\n",
       "      <td>NaN</td>\n",
       "      <td>...</td>\n",
       "      <td>12</td>\n",
       "      <td>20.5</td>\n",
       "      <td>5.9</td>\n",
       "      <td>None</td>\n",
       "      <td>68.9</td>\n",
       "      <td>42.6</td>\n",
       "      <td>None</td>\n",
       "      <td>4.6</td>\n",
       "      <td>23.4</td>\n",
       "      <td>2002-11-15</td>\n",
       "    </tr>\n",
       "  </tbody>\n",
       "</table>\n",
       "<p>12 rows × 22 columns</p>\n",
       "</div>"
      ],
      "text/plain": [
       "   city.climate.raintype city.climate.raindef city.climate.rainunit  \\\n",
       "0               Rainfall                  0.1                    mm   \n",
       "1                    NaN                  NaN                   NaN   \n",
       "2                    NaN                  NaN                   NaN   \n",
       "3                    NaN                  NaN                   NaN   \n",
       "4                    NaN                  NaN                   NaN   \n",
       "5                    NaN                  NaN                   NaN   \n",
       "6                    NaN                  NaN                   NaN   \n",
       "7                    NaN                  NaN                   NaN   \n",
       "8                    NaN                  NaN                   NaN   \n",
       "9                    NaN                  NaN                   NaN   \n",
       "10                   NaN                  NaN                   NaN   \n",
       "11                   NaN                  NaN                   NaN   \n",
       "\n",
       "    city.climate.datab  city.climate.datae city.climate.tempb  \\\n",
       "0               1981.0              2010.0                      \n",
       "1                  NaN                 NaN                NaN   \n",
       "2                  NaN                 NaN                NaN   \n",
       "3                  NaN                 NaN                NaN   \n",
       "4                  NaN                 NaN                NaN   \n",
       "5                  NaN                 NaN                NaN   \n",
       "6                  NaN                 NaN                NaN   \n",
       "7                  NaN                 NaN                NaN   \n",
       "8                  NaN                 NaN                NaN   \n",
       "9                  NaN                 NaN                NaN   \n",
       "10                 NaN                 NaN                NaN   \n",
       "11                 NaN                 NaN                NaN   \n",
       "\n",
       "   city.climate.tempe city.climate.rdayb city.climate.rdaye  \\\n",
       "0                                                             \n",
       "1                 NaN                NaN                NaN   \n",
       "2                 NaN                NaN                NaN   \n",
       "3                 NaN                NaN                NaN   \n",
       "4                 NaN                NaN                NaN   \n",
       "5                 NaN                NaN                NaN   \n",
       "6                 NaN                NaN                NaN   \n",
       "7                 NaN                NaN                NaN   \n",
       "8                 NaN                NaN                NaN   \n",
       "9                 NaN                NaN                NaN   \n",
       "10                NaN                NaN                NaN   \n",
       "11                NaN                NaN                NaN   \n",
       "\n",
       "   city.climate.rainfallb  ... city.climate.climateMonth.month  \\\n",
       "0                          ...                               1   \n",
       "1                     NaN  ...                               2   \n",
       "2                     NaN  ...                               3   \n",
       "3                     NaN  ...                               4   \n",
       "4                     NaN  ...                               5   \n",
       "5                     NaN  ...                               6   \n",
       "6                     NaN  ...                               7   \n",
       "7                     NaN  ...                               8   \n",
       "8                     NaN  ...                               9   \n",
       "9                     NaN  ...                              10   \n",
       "10                    NaN  ...                              11   \n",
       "11                    NaN  ...                              12   \n",
       "\n",
       "   city.climate.climateMonth.maxTemp  city.climate.climateMonth.minTemp  \\\n",
       "0                               22.6                                6.6   \n",
       "1                               23.0                                6.3   \n",
       "2                               19.7                                4.7   \n",
       "3                               14.6                                2.3   \n",
       "4                               10.2                                0.6   \n",
       "5                                6.9                               -0.6   \n",
       "6                                6.7                               -1.6   \n",
       "7                                8.3                               -1.1   \n",
       "8                               11.5                               -0.2   \n",
       "9                               14.8                                1.8   \n",
       "10                              17.9                                3.7   \n",
       "11                              20.5                                5.9   \n",
       "\n",
       "   city.climate.climateMonth.meanTemp city.climate.climateMonth.maxTempF  \\\n",
       "0                                None                               72.7   \n",
       "1                                None                               73.4   \n",
       "2                                None                               67.5   \n",
       "3                                None                               58.3   \n",
       "4                                None                               50.4   \n",
       "5                                None                               44.4   \n",
       "6                                None                               44.1   \n",
       "7                                None                               46.9   \n",
       "8                                None                               52.7   \n",
       "9                                None                               58.6   \n",
       "10                               None                               64.2   \n",
       "11                               None                               68.9   \n",
       "\n",
       "   city.climate.climateMonth.minTempF city.climate.climateMonth.meanTempF  \\\n",
       "0                                43.9                                None   \n",
       "1                                43.3                                None   \n",
       "2                                40.5                                None   \n",
       "3                                36.1                                None   \n",
       "4                                33.1                                None   \n",
       "5                                30.9                                None   \n",
       "6                                29.1                                None   \n",
       "7                                30.0                                None   \n",
       "8                                31.6                                None   \n",
       "9                                35.2                                None   \n",
       "10                               38.7                                None   \n",
       "11                               42.6                                None   \n",
       "\n",
       "   city.climate.climateMonth.raindays city.climate.climateMonth.rainfall  \\\n",
       "0                                 3.7                               20.0   \n",
       "1                                 3.4                               15.3   \n",
       "2                                 6.7                               35.2   \n",
       "3                                 8.2                               58.9   \n",
       "4                                13.6                              130.1   \n",
       "5                                16.1                              170.1   \n",
       "6                                14.0                              122.1   \n",
       "7                                13.0                              101.1   \n",
       "8                                 9.1                               56.5   \n",
       "9                                 8.3                               49.4   \n",
       "10                                5.4                               29.3   \n",
       "11                                4.6                               23.4   \n",
       "\n",
       "   city.climate.climateMonth.climateFromMemDate  \n",
       "0                                    2002-11-15  \n",
       "1                                    2002-11-15  \n",
       "2                                    2002-11-15  \n",
       "3                                    2002-11-15  \n",
       "4                                    2002-11-15  \n",
       "5                                    2002-11-15  \n",
       "6                                    2002-11-15  \n",
       "7                                    2002-11-15  \n",
       "8                                    2002-11-15  \n",
       "9                                    2002-11-15  \n",
       "10                                   2002-11-15  \n",
       "11                                   2002-11-15  \n",
       "\n",
       "[12 rows x 22 columns]"
      ]
     },
     "execution_count": 60,
     "metadata": {},
     "output_type": "execute_result"
    }
   ],
   "source": [
    "import pandas as pd\n",
    "from pandas import json_normalize\n",
    "\n",
    "# Define the columns to keep (excluding the nested column to normalize)\n",
    "climate_cols = [\n",
    "    'city.climate.raintype', 'city.climate.raindef', 'city.climate.rainunit',\n",
    "    'city.climate.datab', 'city.climate.datae', 'city.climate.tempb', 'city.climate.tempe',\n",
    "    'city.climate.rdayb', 'city.climate.rdaye', 'city.climate.rainfallb', 'city.climate.rainfalle',\n",
    "    'city.climate.climatefromclino'\n",
    "]\n",
    "\n",
    "changes = ['city.climate.climateMonth']  # nested column to normalize\n",
    "\n",
    "# Extract non-nested columns\n",
    "df_base = df[climate_cols].copy().reset_index(drop=True)\n",
    "\n",
    "# Normalize nested column\n",
    "normalized_parts = []\n",
    "for col in changes:\n",
    "    nested_data = df[col]\n",
    "    exploded = nested_data.explode().reset_index(drop=True)\n",
    "    norm = json_normalize(exploded)\n",
    "    norm.columns = [f\"{col}.{sub}\" for sub in norm.columns]\n",
    "    normalized_parts.append(norm)\n",
    "\n",
    "# Combine base + normalized\n",
    "city_climate = pd.concat([df_base] + normalized_parts, axis=1)\n",
    "\n",
    "# Show result\n",
    "city_climate\n"
   ]
  },
  {
   "cell_type": "code",
   "execution_count": 61,
   "id": "2be638e0",
   "metadata": {},
   "outputs": [
    {
     "data": {
      "text/html": [
       "<div>\n",
       "<style scoped>\n",
       "    .dataframe tbody tr th:only-of-type {\n",
       "        vertical-align: middle;\n",
       "    }\n",
       "\n",
       "    .dataframe tbody tr th {\n",
       "        vertical-align: top;\n",
       "    }\n",
       "\n",
       "    .dataframe thead th {\n",
       "        text-align: right;\n",
       "    }\n",
       "</style>\n",
       "<table border=\"1\" class=\"dataframe\">\n",
       "  <thead>\n",
       "    <tr style=\"text-align: right;\">\n",
       "      <th></th>\n",
       "      <th>ForecastDay</th>\n",
       "      <th>forecastDate</th>\n",
       "      <th>wxdesc</th>\n",
       "      <th>weather</th>\n",
       "      <th>minTemp</th>\n",
       "      <th>maxTemp</th>\n",
       "      <th>minTempF</th>\n",
       "      <th>maxTempF</th>\n",
       "      <th>weatherIcon</th>\n",
       "    </tr>\n",
       "  </thead>\n",
       "  <tbody>\n",
       "    <tr>\n",
       "      <th>0</th>\n",
       "      <td>Today+0</td>\n",
       "      <td>2025-04-21</td>\n",
       "      <td></td>\n",
       "      <td>Rain</td>\n",
       "      <td>7</td>\n",
       "      <td>15</td>\n",
       "      <td>45</td>\n",
       "      <td>59</td>\n",
       "      <td>1401.0</td>\n",
       "    </tr>\n",
       "    <tr>\n",
       "      <th>1</th>\n",
       "      <td>Today+1</td>\n",
       "      <td>2025-04-22</td>\n",
       "      <td></td>\n",
       "      <td>Rain</td>\n",
       "      <td>5</td>\n",
       "      <td>14</td>\n",
       "      <td>41</td>\n",
       "      <td>57</td>\n",
       "      <td>1401.0</td>\n",
       "    </tr>\n",
       "    <tr>\n",
       "      <th>2</th>\n",
       "      <td>Today+2</td>\n",
       "      <td>2025-04-23</td>\n",
       "      <td></td>\n",
       "      <td>Partly Cloudy</td>\n",
       "      <td>6</td>\n",
       "      <td>14</td>\n",
       "      <td>43</td>\n",
       "      <td>57</td>\n",
       "      <td>2202.0</td>\n",
       "    </tr>\n",
       "    <tr>\n",
       "      <th>3</th>\n",
       "      <td>Today+3</td>\n",
       "      <td>2025-04-24</td>\n",
       "      <td></td>\n",
       "      <td>Light Rain</td>\n",
       "      <td>4</td>\n",
       "      <td>12</td>\n",
       "      <td>39</td>\n",
       "      <td>54</td>\n",
       "      <td>1502.0</td>\n",
       "    </tr>\n",
       "    <tr>\n",
       "      <th>4</th>\n",
       "      <td>Today+4</td>\n",
       "      <td>2025-04-25</td>\n",
       "      <td></td>\n",
       "      <td>Light Rain</td>\n",
       "      <td>3</td>\n",
       "      <td>12</td>\n",
       "      <td>37</td>\n",
       "      <td>54</td>\n",
       "      <td>1502.0</td>\n",
       "    </tr>\n",
       "    <tr>\n",
       "      <th>5</th>\n",
       "      <td>Today+5</td>\n",
       "      <td>2025-04-26</td>\n",
       "      <td></td>\n",
       "      <td>Mostly Cloudy</td>\n",
       "      <td>2</td>\n",
       "      <td>8</td>\n",
       "      <td>36</td>\n",
       "      <td>46</td>\n",
       "      <td>2302.0</td>\n",
       "    </tr>\n",
       "    <tr>\n",
       "      <th>6</th>\n",
       "      <td>Today+6</td>\n",
       "      <td>2025-04-27</td>\n",
       "      <td></td>\n",
       "      <td>Partly Cloudy</td>\n",
       "      <td>1</td>\n",
       "      <td>6</td>\n",
       "      <td>34</td>\n",
       "      <td>43</td>\n",
       "      <td>2202.0</td>\n",
       "    </tr>\n",
       "  </tbody>\n",
       "</table>\n",
       "</div>"
      ],
      "text/plain": [
       "  ForecastDay forecastDate wxdesc        weather minTemp maxTemp minTempF  \\\n",
       "0     Today+0   2025-04-21                  Rain       7      15       45   \n",
       "1     Today+1   2025-04-22                  Rain       5      14       41   \n",
       "2     Today+2   2025-04-23         Partly Cloudy       6      14       43   \n",
       "3     Today+3   2025-04-24            Light Rain       4      12       39   \n",
       "4     Today+4   2025-04-25            Light Rain       3      12       37   \n",
       "5     Today+5   2025-04-26         Mostly Cloudy       2       8       36   \n",
       "6     Today+6   2025-04-27         Partly Cloudy       1       6       34   \n",
       "\n",
       "  maxTempF  weatherIcon  \n",
       "0       59       1401.0  \n",
       "1       57       1401.0  \n",
       "2       57       2202.0  \n",
       "3       54       1502.0  \n",
       "4       54       1502.0  \n",
       "5       46       2302.0  \n",
       "6       43       2202.0  "
      ]
     },
     "execution_count": 61,
     "metadata": {},
     "output_type": "execute_result"
    }
   ],
   "source": [
    "import pandas as pd\n",
    "from pandas import json_normalize\n",
    "\n",
    "# Define forecast columns\n",
    "forecast_cols = ['city.forecast.issueDate', 'city.forecast.timeZone']\n",
    "nested_col = 'city.forecast.forecastDay'\n",
    "\n",
    "# Extract base columns (excluding nested list)\n",
    "df_base = df[forecast_cols].copy().reset_index(drop=True)\n",
    "\n",
    "# Explode and normalize nested forecast list (assuming it's a list of dicts)\n",
    "exploded = df[nested_col].apply(pd.Series).stack().reset_index(level=1, drop=True)\n",
    "exploded = exploded.reset_index(drop=True)\n",
    "\n",
    "# Normalize each forecast entry\n",
    "forecast_normalized = json_normalize(exploded)\n",
    "\n",
    "# Add a label: Today, Today+1, ..., Today+6\n",
    "forecast_normalized['ForecastDay'] = ['Today+{}'.format(i) for i in range(len(forecast_normalized))]\n",
    "\n",
    "# If your original df has multiple cities, repeat each city’s info for 7 rows\n",
    "df_repeated = pd.concat([df_base.loc[i].repeat(7) for i in df_base.index], ignore_index=True)\n",
    "\n",
    "# Combine everything\n",
    "city_forecast = pd.concat([df_repeated.reset_index(drop=True), forecast_normalized], axis=1)\n",
    "\n",
    "# Reorder columns if needed\n",
    "city_forecast = city_forecast[['ForecastDay', 'forecastDate', 'wxdesc', 'weather', 'minTemp', 'maxTemp', 'minTempF', 'maxTempF', 'weatherIcon']]\n",
    "\n",
    "city_forecast = city_forecast.head(7)\n",
    "\n",
    "# Show result\n",
    "city_forecast\n"
   ]
  },
  {
   "cell_type": "markdown",
   "id": "885b1700",
   "metadata": {},
   "source": [
    "# "
   ]
  },
  {
   "cell_type": "markdown",
   "id": "5c54e3e6",
   "metadata": {},
   "source": [
    "# rutujas code "
   ]
  },
  {
   "cell_type": "markdown",
   "id": "44466804",
   "metadata": {},
   "source": [
    "### forecast "
   ]
  },
  {
   "cell_type": "code",
   "execution_count": 44,
   "id": "7dbba76a",
   "metadata": {},
   "outputs": [
    {
     "name": "stdout",
     "output_type": "stream",
     "text": [
      "<class 'pandas.core.frame.DataFrame'>\n",
      "RangeIndex: 7 entries, 0 to 6\n",
      "Data columns (total 9 columns):\n",
      " #   Column        Non-Null Count  Dtype  \n",
      "---  ------        --------------  -----  \n",
      " 0   ForecastDay   7 non-null      object \n",
      " 1   forecastDate  7 non-null      object \n",
      " 2   wxdesc        7 non-null      object \n",
      " 3   weather       7 non-null      object \n",
      " 4   minTemp       7 non-null      object \n",
      " 5   maxTemp       7 non-null      object \n",
      " 6   minTempF      7 non-null      object \n",
      " 7   maxTempF      7 non-null      object \n",
      " 8   weatherIcon   7 non-null      float64\n",
      "dtypes: float64(1), object(8)\n",
      "memory usage: 632.0+ bytes\n"
     ]
    }
   ],
   "source": [
    "city_forecast.info()"
   ]
  },
  {
   "cell_type": "code",
   "execution_count": 62,
   "id": "897b54f5",
   "metadata": {},
   "outputs": [],
   "source": [
    "city_forecast['minTemp'] = pd.to_numeric(city_forecast['minTemp'])\n",
    "city_forecast['maxTemp'] = pd.to_numeric(city_forecast['maxTemp'])\n",
    "\n",
    "city_forecast['forecastDate'] = pd.to_datetime(city_forecast['forecastDate'])\n",
    "city_forecast['Date'] = city_forecast['forecastDate'].dt.strftime('%d %b (%a)')"
   ]
  },
  {
   "cell_type": "code",
   "execution_count": 63,
   "id": "c2a003e8",
   "metadata": {},
   "outputs": [],
   "source": [
    "icon_map = {\n",
    "    'Showers': '🌧️',\n",
    "    'Partly Cloudy': '⛅',\n",
    "    'Mostly Cloudy': '☁️',\n",
    "    'Sunny': '☀️',\n",
    "    'Cloudy': '☁️',\n",
    "    'Rain': '🌧️',\n",
    "    'Thunderstorm': '⛈️'\n",
    "}\n",
    "\n",
    "city_forecast['Icon'] = city_forecast['weather'].map(icon_map).fillna('🌈')  \n",
    "\n",
    "city_forecast['Temp (°C)'] = city_forecast['minTemp'].astype(str) + '°C | ' + city_forecast['maxTemp'].astype(str)+ '°C'"
   ]
  },
  {
   "cell_type": "code",
   "execution_count": 64,
   "id": "3e846c27",
   "metadata": {},
   "outputs": [],
   "source": [
    "forecast_table_df = city_forecast[['Date', 'Temp (°C)', 'Icon', 'weather']]\n",
    "forecast_table_df.rename(columns={\n",
    "    'weather': 'Description'\n",
    "}, inplace=True)\n",
    "#forecast_table_df"
   ]
  },
  {
   "cell_type": "code",
   "execution_count": 65,
   "id": "4771c1d4",
   "metadata": {},
   "outputs": [
    {
     "data": {
      "application/vnd.plotly.v1+json": {
       "config": {
        "plotlyServerURL": "https://plot.ly"
       },
       "data": [
        {
         "cells": {
          "align": "center",
          "fill": {
           "color": [
            [
             "#f0f0f0",
             "white",
             "#f0f0f0",
             "white",
             "#f0f0f0",
             "white",
             "#f0f0f0",
             "white"
            ]
           ]
          },
          "font": {
           "size": 13
          },
          "values": [
           [
            "21 Apr (Mon)",
            "22 Apr (Tue)",
            "23 Apr (Wed)",
            "24 Apr (Thu)",
            "25 Apr (Fri)",
            "26 Apr (Sat)",
            "27 Apr (Sun)"
           ],
           [
            "7°C | 15°C",
            "5°C | 14°C",
            "6°C | 14°C",
            "4°C | 12°C",
            "3°C | 12°C",
            "2°C | 8°C",
            "1°C | 6°C"
           ],
           [
            "🌧️",
            "🌧️",
            "⛅",
            "🌈",
            "🌈",
            "☁️",
            "⛅"
           ],
           [
            "Rain",
            "Rain",
            "Partly Cloudy",
            "Light Rain",
            "Light Rain",
            "Mostly Cloudy",
            "Partly Cloudy"
           ]
          ]
         },
         "header": {
          "align": "center",
          "fill": {
           "color": "#003f5c"
          },
          "font": {
           "color": "white",
           "size": 14
          },
          "values": [
           "Date",
           "Temp (°C)",
           "Icon",
           "Description"
          ]
         },
         "type": "table"
        }
       ],
       "layout": {
        "template": {
         "data": {
          "bar": [
           {
            "error_x": {
             "color": "#2a3f5f"
            },
            "error_y": {
             "color": "#2a3f5f"
            },
            "marker": {
             "line": {
              "color": "#E5ECF6",
              "width": 0.5
             },
             "pattern": {
              "fillmode": "overlay",
              "size": 10,
              "solidity": 0.2
             }
            },
            "type": "bar"
           }
          ],
          "barpolar": [
           {
            "marker": {
             "line": {
              "color": "#E5ECF6",
              "width": 0.5
             },
             "pattern": {
              "fillmode": "overlay",
              "size": 10,
              "solidity": 0.2
             }
            },
            "type": "barpolar"
           }
          ],
          "carpet": [
           {
            "aaxis": {
             "endlinecolor": "#2a3f5f",
             "gridcolor": "white",
             "linecolor": "white",
             "minorgridcolor": "white",
             "startlinecolor": "#2a3f5f"
            },
            "baxis": {
             "endlinecolor": "#2a3f5f",
             "gridcolor": "white",
             "linecolor": "white",
             "minorgridcolor": "white",
             "startlinecolor": "#2a3f5f"
            },
            "type": "carpet"
           }
          ],
          "choropleth": [
           {
            "colorbar": {
             "outlinewidth": 0,
             "ticks": ""
            },
            "type": "choropleth"
           }
          ],
          "contour": [
           {
            "colorbar": {
             "outlinewidth": 0,
             "ticks": ""
            },
            "colorscale": [
             [
              0,
              "#0d0887"
             ],
             [
              0.1111111111111111,
              "#46039f"
             ],
             [
              0.2222222222222222,
              "#7201a8"
             ],
             [
              0.3333333333333333,
              "#9c179e"
             ],
             [
              0.4444444444444444,
              "#bd3786"
             ],
             [
              0.5555555555555556,
              "#d8576b"
             ],
             [
              0.6666666666666666,
              "#ed7953"
             ],
             [
              0.7777777777777778,
              "#fb9f3a"
             ],
             [
              0.8888888888888888,
              "#fdca26"
             ],
             [
              1,
              "#f0f921"
             ]
            ],
            "type": "contour"
           }
          ],
          "contourcarpet": [
           {
            "colorbar": {
             "outlinewidth": 0,
             "ticks": ""
            },
            "type": "contourcarpet"
           }
          ],
          "heatmap": [
           {
            "colorbar": {
             "outlinewidth": 0,
             "ticks": ""
            },
            "colorscale": [
             [
              0,
              "#0d0887"
             ],
             [
              0.1111111111111111,
              "#46039f"
             ],
             [
              0.2222222222222222,
              "#7201a8"
             ],
             [
              0.3333333333333333,
              "#9c179e"
             ],
             [
              0.4444444444444444,
              "#bd3786"
             ],
             [
              0.5555555555555556,
              "#d8576b"
             ],
             [
              0.6666666666666666,
              "#ed7953"
             ],
             [
              0.7777777777777778,
              "#fb9f3a"
             ],
             [
              0.8888888888888888,
              "#fdca26"
             ],
             [
              1,
              "#f0f921"
             ]
            ],
            "type": "heatmap"
           }
          ],
          "histogram": [
           {
            "marker": {
             "pattern": {
              "fillmode": "overlay",
              "size": 10,
              "solidity": 0.2
             }
            },
            "type": "histogram"
           }
          ],
          "histogram2d": [
           {
            "colorbar": {
             "outlinewidth": 0,
             "ticks": ""
            },
            "colorscale": [
             [
              0,
              "#0d0887"
             ],
             [
              0.1111111111111111,
              "#46039f"
             ],
             [
              0.2222222222222222,
              "#7201a8"
             ],
             [
              0.3333333333333333,
              "#9c179e"
             ],
             [
              0.4444444444444444,
              "#bd3786"
             ],
             [
              0.5555555555555556,
              "#d8576b"
             ],
             [
              0.6666666666666666,
              "#ed7953"
             ],
             [
              0.7777777777777778,
              "#fb9f3a"
             ],
             [
              0.8888888888888888,
              "#fdca26"
             ],
             [
              1,
              "#f0f921"
             ]
            ],
            "type": "histogram2d"
           }
          ],
          "histogram2dcontour": [
           {
            "colorbar": {
             "outlinewidth": 0,
             "ticks": ""
            },
            "colorscale": [
             [
              0,
              "#0d0887"
             ],
             [
              0.1111111111111111,
              "#46039f"
             ],
             [
              0.2222222222222222,
              "#7201a8"
             ],
             [
              0.3333333333333333,
              "#9c179e"
             ],
             [
              0.4444444444444444,
              "#bd3786"
             ],
             [
              0.5555555555555556,
              "#d8576b"
             ],
             [
              0.6666666666666666,
              "#ed7953"
             ],
             [
              0.7777777777777778,
              "#fb9f3a"
             ],
             [
              0.8888888888888888,
              "#fdca26"
             ],
             [
              1,
              "#f0f921"
             ]
            ],
            "type": "histogram2dcontour"
           }
          ],
          "mesh3d": [
           {
            "colorbar": {
             "outlinewidth": 0,
             "ticks": ""
            },
            "type": "mesh3d"
           }
          ],
          "parcoords": [
           {
            "line": {
             "colorbar": {
              "outlinewidth": 0,
              "ticks": ""
             }
            },
            "type": "parcoords"
           }
          ],
          "pie": [
           {
            "automargin": true,
            "type": "pie"
           }
          ],
          "scatter": [
           {
            "fillpattern": {
             "fillmode": "overlay",
             "size": 10,
             "solidity": 0.2
            },
            "type": "scatter"
           }
          ],
          "scatter3d": [
           {
            "line": {
             "colorbar": {
              "outlinewidth": 0,
              "ticks": ""
             }
            },
            "marker": {
             "colorbar": {
              "outlinewidth": 0,
              "ticks": ""
             }
            },
            "type": "scatter3d"
           }
          ],
          "scattercarpet": [
           {
            "marker": {
             "colorbar": {
              "outlinewidth": 0,
              "ticks": ""
             }
            },
            "type": "scattercarpet"
           }
          ],
          "scattergeo": [
           {
            "marker": {
             "colorbar": {
              "outlinewidth": 0,
              "ticks": ""
             }
            },
            "type": "scattergeo"
           }
          ],
          "scattergl": [
           {
            "marker": {
             "colorbar": {
              "outlinewidth": 0,
              "ticks": ""
             }
            },
            "type": "scattergl"
           }
          ],
          "scattermap": [
           {
            "marker": {
             "colorbar": {
              "outlinewidth": 0,
              "ticks": ""
             }
            },
            "type": "scattermap"
           }
          ],
          "scattermapbox": [
           {
            "marker": {
             "colorbar": {
              "outlinewidth": 0,
              "ticks": ""
             }
            },
            "type": "scattermapbox"
           }
          ],
          "scatterpolar": [
           {
            "marker": {
             "colorbar": {
              "outlinewidth": 0,
              "ticks": ""
             }
            },
            "type": "scatterpolar"
           }
          ],
          "scatterpolargl": [
           {
            "marker": {
             "colorbar": {
              "outlinewidth": 0,
              "ticks": ""
             }
            },
            "type": "scatterpolargl"
           }
          ],
          "scatterternary": [
           {
            "marker": {
             "colorbar": {
              "outlinewidth": 0,
              "ticks": ""
             }
            },
            "type": "scatterternary"
           }
          ],
          "surface": [
           {
            "colorbar": {
             "outlinewidth": 0,
             "ticks": ""
            },
            "colorscale": [
             [
              0,
              "#0d0887"
             ],
             [
              0.1111111111111111,
              "#46039f"
             ],
             [
              0.2222222222222222,
              "#7201a8"
             ],
             [
              0.3333333333333333,
              "#9c179e"
             ],
             [
              0.4444444444444444,
              "#bd3786"
             ],
             [
              0.5555555555555556,
              "#d8576b"
             ],
             [
              0.6666666666666666,
              "#ed7953"
             ],
             [
              0.7777777777777778,
              "#fb9f3a"
             ],
             [
              0.8888888888888888,
              "#fdca26"
             ],
             [
              1,
              "#f0f921"
             ]
            ],
            "type": "surface"
           }
          ],
          "table": [
           {
            "cells": {
             "fill": {
              "color": "#EBF0F8"
             },
             "line": {
              "color": "white"
             }
            },
            "header": {
             "fill": {
              "color": "#C8D4E3"
             },
             "line": {
              "color": "white"
             }
            },
            "type": "table"
           }
          ]
         },
         "layout": {
          "annotationdefaults": {
           "arrowcolor": "#2a3f5f",
           "arrowhead": 0,
           "arrowwidth": 1
          },
          "autotypenumbers": "strict",
          "coloraxis": {
           "colorbar": {
            "outlinewidth": 0,
            "ticks": ""
           }
          },
          "colorscale": {
           "diverging": [
            [
             0,
             "#8e0152"
            ],
            [
             0.1,
             "#c51b7d"
            ],
            [
             0.2,
             "#de77ae"
            ],
            [
             0.3,
             "#f1b6da"
            ],
            [
             0.4,
             "#fde0ef"
            ],
            [
             0.5,
             "#f7f7f7"
            ],
            [
             0.6,
             "#e6f5d0"
            ],
            [
             0.7,
             "#b8e186"
            ],
            [
             0.8,
             "#7fbc41"
            ],
            [
             0.9,
             "#4d9221"
            ],
            [
             1,
             "#276419"
            ]
           ],
           "sequential": [
            [
             0,
             "#0d0887"
            ],
            [
             0.1111111111111111,
             "#46039f"
            ],
            [
             0.2222222222222222,
             "#7201a8"
            ],
            [
             0.3333333333333333,
             "#9c179e"
            ],
            [
             0.4444444444444444,
             "#bd3786"
            ],
            [
             0.5555555555555556,
             "#d8576b"
            ],
            [
             0.6666666666666666,
             "#ed7953"
            ],
            [
             0.7777777777777778,
             "#fb9f3a"
            ],
            [
             0.8888888888888888,
             "#fdca26"
            ],
            [
             1,
             "#f0f921"
            ]
           ],
           "sequentialminus": [
            [
             0,
             "#0d0887"
            ],
            [
             0.1111111111111111,
             "#46039f"
            ],
            [
             0.2222222222222222,
             "#7201a8"
            ],
            [
             0.3333333333333333,
             "#9c179e"
            ],
            [
             0.4444444444444444,
             "#bd3786"
            ],
            [
             0.5555555555555556,
             "#d8576b"
            ],
            [
             0.6666666666666666,
             "#ed7953"
            ],
            [
             0.7777777777777778,
             "#fb9f3a"
            ],
            [
             0.8888888888888888,
             "#fdca26"
            ],
            [
             1,
             "#f0f921"
            ]
           ]
          },
          "colorway": [
           "#636efa",
           "#EF553B",
           "#00cc96",
           "#ab63fa",
           "#FFA15A",
           "#19d3f3",
           "#FF6692",
           "#B6E880",
           "#FF97FF",
           "#FECB52"
          ],
          "font": {
           "color": "#2a3f5f"
          },
          "geo": {
           "bgcolor": "white",
           "lakecolor": "white",
           "landcolor": "#E5ECF6",
           "showlakes": true,
           "showland": true,
           "subunitcolor": "white"
          },
          "hoverlabel": {
           "align": "left"
          },
          "hovermode": "closest",
          "mapbox": {
           "style": "light"
          },
          "paper_bgcolor": "white",
          "plot_bgcolor": "#E5ECF6",
          "polar": {
           "angularaxis": {
            "gridcolor": "white",
            "linecolor": "white",
            "ticks": ""
           },
           "bgcolor": "#E5ECF6",
           "radialaxis": {
            "gridcolor": "white",
            "linecolor": "white",
            "ticks": ""
           }
          },
          "scene": {
           "xaxis": {
            "backgroundcolor": "#E5ECF6",
            "gridcolor": "white",
            "gridwidth": 2,
            "linecolor": "white",
            "showbackground": true,
            "ticks": "",
            "zerolinecolor": "white"
           },
           "yaxis": {
            "backgroundcolor": "#E5ECF6",
            "gridcolor": "white",
            "gridwidth": 2,
            "linecolor": "white",
            "showbackground": true,
            "ticks": "",
            "zerolinecolor": "white"
           },
           "zaxis": {
            "backgroundcolor": "#E5ECF6",
            "gridcolor": "white",
            "gridwidth": 2,
            "linecolor": "white",
            "showbackground": true,
            "ticks": "",
            "zerolinecolor": "white"
           }
          },
          "shapedefaults": {
           "line": {
            "color": "#2a3f5f"
           }
          },
          "ternary": {
           "aaxis": {
            "gridcolor": "white",
            "linecolor": "white",
            "ticks": ""
           },
           "baxis": {
            "gridcolor": "white",
            "linecolor": "white",
            "ticks": ""
           },
           "bgcolor": "#E5ECF6",
           "caxis": {
            "gridcolor": "white",
            "linecolor": "white",
            "ticks": ""
           }
          },
          "title": {
           "x": 0.05
          },
          "xaxis": {
           "automargin": true,
           "gridcolor": "white",
           "linecolor": "white",
           "ticks": "",
           "title": {
            "standoff": 15
           },
           "zerolinecolor": "white",
           "zerolinewidth": 2
          },
          "yaxis": {
           "automargin": true,
           "gridcolor": "white",
           "linecolor": "white",
           "ticks": "",
           "title": {
            "standoff": 15
           },
           "zerolinecolor": "white",
           "zerolinewidth": 2
          }
         }
        },
        "title": {
         "font": {
          "size": 20
         },
         "text": " 7-Day Weather Forecast "
        }
       }
      }
     },
     "metadata": {},
     "output_type": "display_data"
    }
   ],
   "source": [
    "import plotly.graph_objects as go\n",
    "\n",
    "fig = go.Figure(data=[go.Table(\n",
    "    header=dict(values=list(forecast_table_df.columns),\n",
    "                fill_color='#003f5c',\n",
    "                font=dict(color='white', size=14),\n",
    "                align='center'),\n",
    "    cells=dict(values=[forecast_table_df[col] for col in forecast_table_df.columns],\n",
    "               fill_color=[['#f0f0f0','white']*int((len(forecast_table_df)/2)+1)],\n",
    "               align='center',\n",
    "               font=dict(size=13)))\n",
    "])\n",
    "\n",
    "fig.update_layout(title_text=\" 7-Day Weather Forecast \", title_font_size=20)\n",
    "fig.show()"
   ]
  },
  {
   "cell_type": "markdown",
   "id": "cc0b15cb",
   "metadata": {},
   "source": [
    "### forecast climate info"
   ]
  },
  {
   "cell_type": "code",
   "execution_count": 66,
   "id": "45232a9e",
   "metadata": {},
   "outputs": [
    {
     "name": "stdout",
     "output_type": "stream",
     "text": [
      "<class 'pandas.core.frame.DataFrame'>\n",
      "RangeIndex: 12 entries, 0 to 11\n",
      "Data columns (total 22 columns):\n",
      " #   Column                                        Non-Null Count  Dtype  \n",
      "---  ------                                        --------------  -----  \n",
      " 0   city.climate.raintype                         1 non-null      object \n",
      " 1   city.climate.raindef                          1 non-null      object \n",
      " 2   city.climate.rainunit                         1 non-null      object \n",
      " 3   city.climate.datab                            1 non-null      float64\n",
      " 4   city.climate.datae                            1 non-null      float64\n",
      " 5   city.climate.tempb                            1 non-null      object \n",
      " 6   city.climate.tempe                            1 non-null      object \n",
      " 7   city.climate.rdayb                            1 non-null      object \n",
      " 8   city.climate.rdaye                            1 non-null      object \n",
      " 9   city.climate.rainfallb                        1 non-null      object \n",
      " 10  city.climate.rainfalle                        1 non-null      object \n",
      " 11  city.climate.climatefromclino                 1 non-null      object \n",
      " 12  city.climate.climateMonth.month               12 non-null     int64  \n",
      " 13  city.climate.climateMonth.maxTemp             12 non-null     object \n",
      " 14  city.climate.climateMonth.minTemp             12 non-null     object \n",
      " 15  city.climate.climateMonth.meanTemp            0 non-null      object \n",
      " 16  city.climate.climateMonth.maxTempF            12 non-null     object \n",
      " 17  city.climate.climateMonth.minTempF            12 non-null     object \n",
      " 18  city.climate.climateMonth.meanTempF           0 non-null      object \n",
      " 19  city.climate.climateMonth.raindays            12 non-null     object \n",
      " 20  city.climate.climateMonth.rainfall            12 non-null     object \n",
      " 21  city.climate.climateMonth.climateFromMemDate  12 non-null     object \n",
      "dtypes: float64(2), int64(1), object(19)\n",
      "memory usage: 2.2+ KB\n"
     ]
    }
   ],
   "source": [
    "city_climate.info()"
   ]
  },
  {
   "cell_type": "code",
   "execution_count": 69,
   "id": "bea9a9ec",
   "metadata": {},
   "outputs": [],
   "source": [
    "city_climate['city.climate.climateMonth.month'] = pd.to_datetime(city_climate['city.climate.climateMonth.month'], format='%m').dt.strftime('%b')\n",
    "\n",
    "city_climate['city.climate.climateMonth.minTemp'] = pd.to_numeric(city_climate['city.climate.climateMonth.minTemp'])\n",
    "city_climate['city.climate.climateMonth.maxTemp'] = pd.to_numeric(city_climate['city.climate.climateMonth.maxTemp'])\n",
    "city_climate['city.climate.climateMonth.rainfall'] = pd.to_numeric(city_climate['city.climate.climateMonth.rainfall'])"
   ]
  },
  {
   "cell_type": "code",
   "execution_count": 70,
   "id": "57f4b2cb",
   "metadata": {},
   "outputs": [
    {
     "data": {
      "image/png": "[encoded data removed]",
      "text/plain": [
       "<Figure size 1100x600 with 2 Axes>"
      ]
     },
     "metadata": {},
     "output_type": "display_data"
    }
   ],
   "source": [
    "import matplotlib.pyplot as plt\n",
    "\n",
    "plt.figure(figsize=(11, 6))\n",
    "\n",
    "# Min and Max Temperature\n",
    "plt.plot(city_climate['city.climate.climateMonth.month'], city_climate['city.climate.climateMonth.minTemp'], label='Min Temperature (°C)', marker='o')\n",
    "plt.plot(city_climate['city.climate.climateMonth.month'], city_climate['city.climate.climateMonth.maxTemp'], label='Max Temperature (°C)', marker='o')\n",
    "\n",
    "# Twin y-axis for rainfall\n",
    "ax1 = plt.gca()\n",
    "ax2 = ax1.twinx()\n",
    "ax2.bar(city_climate['city.climate.climateMonth.month'], city_climate['city.climate.climateMonth.rainfall'], alpha=0.3, color='blue', label='Rainfall (mm)')\n",
    "\n",
    "# Labels and titles\n",
    "ax1.set_xlabel('Month')\n",
    "ax1.set_ylabel('Temperature (°C)')\n",
    "ax2.set_ylabel('Rainfall (mm)')\n",
    "plt.title('Monthly Climate Overview')\n",
    "ax1.legend(loc='upper left')\n",
    "ax2.legend(loc='upper right')\n",
    "\n",
    "#plt.grid(True)\n",
    "plt.show()"
   ]
  },
  {
   "cell_type": "code",
   "execution_count": 82,
   "id": "0d1c665f",
   "metadata": {},
   "outputs": [],
   "source": [
    "import pandas as pd\n",
    "import numpy as np\n",
    "import matplotlib.pyplot as plt\n",
    "from pmdarima import auto_arima"
   ]
  },
  {
   "cell_type": "code",
   "execution_count": 83,
   "id": "d82d14d1",
   "metadata": {},
   "outputs": [],
   "source": [
    "city_climate.index = pd.period_range(start='2025-01', periods=12, freq='M')\n",
    "\n",
    "def forecast_series(series, periods=3):\n",
    "    model = auto_arima(series, seasonal=False)\n",
    "    forecast = model.predict(n_periods=periods)\n",
    "    return forecast"
   ]
  },
  {
   "cell_type": "code",
   "execution_count": 96,
   "id": "6b6570cd",
   "metadata": {},
   "outputs": [
    {
     "data": {
      "image/png": "[encoded data removed]",
      "text/plain": [
       "<Figure size 1200x600 with 2 Axes>"
      ]
     },
     "metadata": {},
     "output_type": "display_data"
    }
   ],
   "source": [
    "# Forecast periods\n",
    "forecast_periods = 3\n",
    "future_months = pd.period_range(start='2026-01', periods=forecast_periods, freq='M').strftime('%b')\n",
    "\n",
    "# Forecast values\n",
    "minTemp_forecast = forecast_series(city_climate['city.climate.climateMonth.minTemp'])\n",
    "maxTemp_forecast = forecast_series(city_climate['city.climate.climateMonth.maxTemp'])\n",
    "rainfall_forecast = forecast_series(city_climate['city.climate.climateMonth.rainfall'])\n",
    "\n",
    "# Combine month names for x-axis labels\n",
    "all_months = list(city_climate.index.strftime('%b')) + list(future_months)\n",
    "\n",
    "# Combine actual and forecasted values for plotting\n",
    "min_temp_full = list(city_climate['city.climate.climateMonth.minTemp']) + list(minTemp_forecast)\n",
    "max_temp_full = list(city_climate['city.climate.climateMonth.maxTemp']) + list(maxTemp_forecast)\n",
    "rainfall_full  = list(city_climate['city.climate.climateMonth.rainfall'])  + list(rainfall_forecast)\n",
    "\n",
    "plt.figure(figsize=(12, 6))\n",
    "\n",
    "# Actual Temperatures\n",
    "ax1 = plt.gca()\n",
    "ax1.plot(all_months[:12], min_temp_full[:12], label='Min Temp (°C) - Actual', marker='o', color='blue')\n",
    "ax1.plot(all_months[:12], max_temp_full[:12], label='Max Temp (°C) - Actual', marker='o', color='orange')\n",
    "\n",
    "# Forecast Temperatures (starting properly at forecast months)\n",
    "ax1.plot(all_months[12:15], min_temp_full[12:15], linestyle='--', color='cyan', marker='s', label='Min Temp (°C) - Forecast 2026')\n",
    "ax1.plot(all_months[12:15], max_temp_full[12:15], linestyle='--', color='red', marker='s', label='Max Temp (°C) - Forecast 2026')\n",
    "\n",
    "# Twin axis for Rainfall\n",
    "ax2 = ax1.twinx()\n",
    "\n",
    "# Actual Rainfall\n",
    "ax2.bar(all_months[:12], rainfall_full[:12], alpha=0.3, color='purple', label='Rainfall (mm) - Actual')\n",
    "\n",
    "# Forecast Rainfall\n",
    "ax2.bar(all_months[12:15], rainfall_full[12:15], alpha=0.3, color='green', label='Rainfall (mm) - Forecast 2026')\n",
    "\n",
    "# Labels and Title\n",
    "ax1.set_xlabel('Month')\n",
    "ax1.set_ylabel('Temperature (°C)')\n",
    "ax2.set_ylabel('Rainfall (mm)')\n",
    "plt.title('Monthly Climate Overview with 3-Month Forecast')\n",
    "\n",
    "# Combine legends from both axes and place them outside the plot\n",
    "lines_1, labels_1 = ax1.get_legend_handles_labels()\n",
    "lines_2, labels_2 = ax2.get_legend_handles_labels()\n",
    "ax1.legend(lines_1 + lines_2, labels_1 + labels_2, loc='center left', bbox_to_anchor=(1.05, 0.5))\n",
    "\n",
    "# Adjust layout to fit everything cleanly\n",
    "plt.tight_layout()\n",
    "\n",
    "# Show plot\n",
    "plt.show()\n"
   ]
  },
  {
   "cell_type": "code",
   "execution_count": 97,
   "id": "d7b0fe17",
   "metadata": {},
   "outputs": [
    {
     "name": "stdout",
     "output_type": "stream",
     "text": [
      "\n",
      "3-Month Forecast:\n",
      "        Month  Min Temp (°C)  Max Temp (°C)  Rainfall (mm)\n",
      "2026-01   Jan       6.742361      21.017573      38.323755\n",
      "2026-02   Feb       6.859846      19.255000      59.646052\n",
      "2026-03   Mar       5.828456      15.893857      75.972837\n"
     ]
    }
   ],
   "source": [
    "forecast_df_next3Month = pd.DataFrame({\n",
    "    'Month': future_months,\n",
    "    'Min Temp (°C)': minTemp_forecast,\n",
    "    'Max Temp (°C)': maxTemp_forecast,\n",
    "    'Rainfall (mm)': rainfall_forecast\n",
    "})\n",
    "\n",
    "# Display forecast table\n",
    "print(\"\\n3-Month Forecast:\")\n",
    "print(forecast_df_next3Month)"
   ]
  },
  {
   "cell_type": "code",
   "execution_count": null,
   "id": "3d22ee78",
   "metadata": {},
   "outputs": [],
   "source": []
  }
 ],
 "metadata": {
  "kernelspec": {
   "display_name": "Python 3",
   "language": "python",
   "name": "python3"
  },
  "language_info": {
   "codemirror_mode": {
    "name": "ipython",
    "version": 3
   },
   "file_extension": ".py",
   "mimetype": "text/x-python",
   "name": "python",
   "nbconvert_exporter": "python",
   "pygments_lexer": "ipython3",
   "version": "3.10.0"
  }
 },
 "nbformat": 4,
 "nbformat_minor": 5
}
